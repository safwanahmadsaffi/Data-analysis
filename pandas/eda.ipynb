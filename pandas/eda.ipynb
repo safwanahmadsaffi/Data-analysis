{
 "cells": [
  {
   "cell_type": "markdown",
   "metadata": {},
   "source": [
    "# →Exploratory Data Analysis-(EDA)\n",
    "\n",
    "## -Data sourcing\n",
    "\n",
    "## -Data cleaning OUTLIERS\n",
    "\n",
    "## -Numerical Analysis\n",
    "\n",
    "## -Categorical Analysis\n",
    "\n",
    "## -Derived matrices\n",
    "\n",
    "---\n",
    "\n",
    "## Data sourcing\n",
    "\n",
    "1-Public data\n",
    "\n",
    "Open source\n",
    "\n",
    "Organization \n",
    "\n",
    "2-Private data"
   ]
  }
 ],
 "metadata": {
  "language_info": {
   "name": "python"
  }
 },
 "nbformat": 4,
 "nbformat_minor": 2
}
